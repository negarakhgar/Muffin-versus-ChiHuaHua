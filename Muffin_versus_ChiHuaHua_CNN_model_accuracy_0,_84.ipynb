{
  "metadata": {
    "kernelspec": {
      "name": "python3",
      "display_name": "Python 3",
      "language": "python"
    },
    "language_info": {
      "name": "python",
      "version": "3.10.12",
      "mimetype": "text/x-python",
      "codemirror_mode": {
        "name": "ipython",
        "version": 3
      },
      "pygments_lexer": "ipython3",
      "nbconvert_exporter": "python",
      "file_extension": ".py"
    },
    "kaggle": {
      "accelerator": "gpu",
      "dataSources": [
        {
          "sourceId": 4749004,
          "sourceType": "datasetVersion",
          "datasetId": 2733586
        }
      ],
      "dockerImageVersionId": 30588,
      "isInternetEnabled": true,
      "language": "python",
      "sourceType": "notebook",
      "isGpuEnabled": true
    },
    "colab": {
      "name": "Muffin versus ChiHuaHua  CNN model accuracy 0, 84",
      "provenance": []
    }
  },
  "nbformat_minor": 0,
  "nbformat": 4,
  "cells": [
    {
      "source": [
        "\n",
        "import os\n",
        "import sys\n",
        "from tempfile import NamedTemporaryFile\n",
        "from urllib.request import urlopen\n",
        "from urllib.parse import unquote, urlparse\n",
        "from urllib.error import HTTPError\n",
        "from zipfile import ZipFile\n",
        "import tarfile\n",
        "import shutil\n",
        "\n",
        "CHUNK_SIZE = 40960\n",
        "DATA_SOURCE_MAPPING = 'muffin-vs-chihuahua-image-classification:https%3A%2F%2Fstorage.googleapis.com%2Fkaggle-data-sets%2F2733586%2F4749004%2Fbundle%2Farchive.zip%3FX-Goog-Algorithm%3DGOOG4-RSA-SHA256%26X-Goog-Credential%3Dgcp-kaggle-com%2540kaggle-161607.iam.gserviceaccount.com%252F20240622%252Fauto%252Fstorage%252Fgoog4_request%26X-Goog-Date%3D20240622T202750Z%26X-Goog-Expires%3D259200%26X-Goog-SignedHeaders%3Dhost%26X-Goog-Signature%3D428067383cfc00054695b559bf65458b53aae0dcd7685d04330835bd3624d0b709b0b44c4132eab944394f09350b0a3810b31fb0cc335b4156067c9457df702a0a241155e83374efe15542d4b08cf0d1cf57cf9a2b080789cc585adf26ed29e3132a1818807864cd41e0f64c27f7fff973d47660456bdd6f2300766ff102ed828ecab39c5d1f41713b97d9e2559ed2c7192e012a20f7bf97d4b3c97455f26e0139a966670d134d0a5fe82475948677a7ac033099217cd5d99d1e59837d0efb3288aa450ba3dc8428d2eb304b449f278dcea8a44413afb6983b8fb1a3e70356a26c10f7c9e39b0faebf9b5f63a2b780ef66b087ca1fbde8a84de960f9f56c269a'\n",
        "\n",
        "KAGGLE_INPUT_PATH='/kaggle/input'\n",
        "KAGGLE_WORKING_PATH='/kaggle/working'\n",
        "KAGGLE_SYMLINK='kaggle'\n",
        "\n",
        "!umount /kaggle/input/ 2> /dev/null\n",
        "shutil.rmtree('/kaggle/input', ignore_errors=True)\n",
        "os.makedirs(KAGGLE_INPUT_PATH, 0o777, exist_ok=True)\n",
        "os.makedirs(KAGGLE_WORKING_PATH, 0o777, exist_ok=True)\n",
        "\n",
        "try:\n",
        "  os.symlink(KAGGLE_INPUT_PATH, os.path.join(\"..\", 'input'), target_is_directory=True)\n",
        "except FileExistsError:\n",
        "  pass\n",
        "try:\n",
        "  os.symlink(KAGGLE_WORKING_PATH, os.path.join(\"..\", 'working'), target_is_directory=True)\n",
        "except FileExistsError:\n",
        "  pass\n",
        "\n",
        "for data_source_mapping in DATA_SOURCE_MAPPING.split(','):\n",
        "    directory, download_url_encoded = data_source_mapping.split(':')\n",
        "    download_url = unquote(download_url_encoded)\n",
        "    filename = urlparse(download_url).path\n",
        "    destination_path = os.path.join(KAGGLE_INPUT_PATH, directory)\n",
        "    try:\n",
        "        with urlopen(download_url) as fileres, NamedTemporaryFile() as tfile:\n",
        "            total_length = fileres.headers['content-length']\n",
        "            print(f'Downloading {directory}, {total_length} bytes compressed')\n",
        "            dl = 0\n",
        "            data = fileres.read(CHUNK_SIZE)\n",
        "            while len(data) > 0:\n",
        "                dl += len(data)\n",
        "                tfile.write(data)\n",
        "                done = int(50 * dl / int(total_length))\n",
        "                sys.stdout.write(f\"\\r[{'=' * done}{' ' * (50-done)}] {dl} bytes downloaded\")\n",
        "                sys.stdout.flush()\n",
        "                data = fileres.read(CHUNK_SIZE)\n",
        "            if filename.endswith('.zip'):\n",
        "              with ZipFile(tfile) as zfile:\n",
        "                zfile.extractall(destination_path)\n",
        "            else:\n",
        "              with tarfile.open(tfile.name) as tarfile:\n",
        "                tarfile.extractall(destination_path)\n",
        "            print(f'\\nDownloaded and uncompressed: {directory}')\n",
        "    except HTTPError as e:\n",
        "        print(f'Failed to load (likely expired) {download_url} to path {destination_path}')\n",
        "        continue\n",
        "    except OSError as e:\n",
        "        print(f'Failed to load {download_url} to path {destination_path}')\n",
        "        continue\n",
        "\n",
        "print('Data source import complete.')\n"
      ],
      "metadata": {
        "id": "GeMs6p9mokeN"
      },
      "cell_type": "code",
      "outputs": [],
      "execution_count": null
    },
    {
      "cell_type": "markdown",
      "source": [
        "Task - to develop neural network for classification of 2 classes\n",
        "At first, try to develop simple NN, see result, and apply CNN lyers to solve task.\n",
        "in this notebook I will not use pre-taught models.\n"
      ],
      "metadata": {
        "id": "bav1gOQ0okeP"
      }
    },
    {
      "cell_type": "code",
      "source": [
        "#pip install tensorflow #here I use TensorFlow library"
      ],
      "metadata": {
        "execution": {
          "iopub.status.busy": "2023-11-28T17:02:56.419538Z",
          "iopub.execute_input": "2023-11-28T17:02:56.41997Z",
          "iopub.status.idle": "2023-11-28T17:02:56.424058Z",
          "shell.execute_reply.started": "2023-11-28T17:02:56.419931Z",
          "shell.execute_reply": "2023-11-28T17:02:56.42315Z"
        },
        "trusted": true,
        "id": "_FkJ8O2sokeQ"
      },
      "execution_count": null,
      "outputs": []
    },
    {
      "cell_type": "code",
      "source": [
        "import tensorflow as tf\n",
        "import numpy as np\n",
        "from keras.models import Sequential\n",
        "from keras.layers import Dense, Flatten, Conv2D, MaxPooling2D, Rescaling, BatchNormalization, Dropout\n",
        "from keras.preprocessing.image import ImageDataGenerator\n",
        "from keras.callbacks import ModelCheckpoint\n",
        "from keras import regularizers\n",
        "import matplotlib.pyplot as plt"
      ],
      "metadata": {
        "execution": {
          "iopub.status.busy": "2023-11-28T17:02:56.425717Z",
          "iopub.execute_input": "2023-11-28T17:02:56.426054Z",
          "iopub.status.idle": "2023-11-28T17:03:07.748654Z",
          "shell.execute_reply.started": "2023-11-28T17:02:56.426019Z",
          "shell.execute_reply": "2023-11-28T17:03:07.747667Z"
        },
        "trusted": true,
        "id": "xAdux_lZokeR"
      },
      "execution_count": null,
      "outputs": []
    },
    {
      "cell_type": "code",
      "source": [
        "#download data with Keras function ImageDataGenerator\n",
        "train_dir = '/kaggle/input/muffin-vs-chihuahua-image-classification/test'\n",
        "test_dir = '/kaggle/input/muffin-vs-chihuahua-image-classification/train'\n",
        "\n",
        "datagen = ImageDataGenerator(rescale=1./255)  # Scaling pixels to scale [0, 1]\n",
        "\n",
        "train_data = datagen.flow_from_directory(train_dir, target_size=(128, 128), batch_size=64, class_mode='sparse', shuffle=False)\n",
        "\n",
        "test_data = datagen.flow_from_directory(test_dir, target_size=(128, 128), batch_size=64, class_mode='sparse', shuffle=False)"
      ],
      "metadata": {
        "execution": {
          "iopub.status.busy": "2023-11-28T17:03:07.750376Z",
          "iopub.execute_input": "2023-11-28T17:03:07.750881Z",
          "iopub.status.idle": "2023-11-28T17:03:12.421879Z",
          "shell.execute_reply.started": "2023-11-28T17:03:07.750854Z",
          "shell.execute_reply": "2023-11-28T17:03:12.420921Z"
        },
        "trusted": true,
        "id": "7bvtaAYTokeR"
      },
      "execution_count": null,
      "outputs": []
    },
    {
      "cell_type": "code",
      "source": [
        "train_data"
      ],
      "metadata": {
        "execution": {
          "iopub.status.busy": "2023-11-28T17:03:12.423212Z",
          "iopub.execute_input": "2023-11-28T17:03:12.423589Z",
          "iopub.status.idle": "2023-11-28T17:03:12.431237Z",
          "shell.execute_reply.started": "2023-11-28T17:03:12.423552Z",
          "shell.execute_reply": "2023-11-28T17:03:12.43023Z"
        },
        "trusted": true,
        "id": "EoO2YkevokeR"
      },
      "execution_count": null,
      "outputs": []
    },
    {
      "cell_type": "code",
      "source": [
        "x, y = next(train_data)\n",
        "print('Shape of x:', x.shape)\n",
        "print('Shape of y:', y.shape)"
      ],
      "metadata": {
        "execution": {
          "iopub.status.busy": "2023-11-28T17:03:12.433399Z",
          "iopub.execute_input": "2023-11-28T17:03:12.43374Z",
          "iopub.status.idle": "2023-11-28T17:03:12.894426Z",
          "shell.execute_reply.started": "2023-11-28T17:03:12.433702Z",
          "shell.execute_reply": "2023-11-28T17:03:12.893497Z"
        },
        "trusted": true,
        "id": "3nTt8QJsokeR"
      },
      "execution_count": null,
      "outputs": []
    },
    {
      "cell_type": "code",
      "source": [
        "first_image = x[0]\n",
        "first_label = y[0]\n",
        "print('Shape of first_image:', first_image.shape)\n",
        "print('First label:', first_label)"
      ],
      "metadata": {
        "execution": {
          "iopub.status.busy": "2023-11-28T17:03:12.895629Z",
          "iopub.execute_input": "2023-11-28T17:03:12.895927Z",
          "iopub.status.idle": "2023-11-28T17:03:12.901012Z",
          "shell.execute_reply.started": "2023-11-28T17:03:12.8959Z",
          "shell.execute_reply": "2023-11-28T17:03:12.900149Z"
        },
        "trusted": true,
        "id": "3Sx1ujqKokeR"
      },
      "execution_count": null,
      "outputs": []
    },
    {
      "cell_type": "code",
      "source": [
        "test_data"
      ],
      "metadata": {
        "execution": {
          "iopub.status.busy": "2023-11-28T17:03:12.90238Z",
          "iopub.execute_input": "2023-11-28T17:03:12.902729Z",
          "iopub.status.idle": "2023-11-28T17:03:12.911629Z",
          "shell.execute_reply.started": "2023-11-28T17:03:12.902696Z",
          "shell.execute_reply": "2023-11-28T17:03:12.910675Z"
        },
        "trusted": true,
        "id": "KxnMuVTnokeR"
      },
      "execution_count": null,
      "outputs": []
    },
    {
      "cell_type": "code",
      "source": [
        "#write function for   fcc nn\n",
        "def fcc_nn_model():\n",
        "    model= Sequential()\n",
        "    model.add(Flatten (input_shape=[128,128,3]))\n",
        "    model.add(Dense(64, activation='relu'))\n",
        "    model.add(Dense(32, activation='relu'))\n",
        "    model.add(Dense(2, activation='softmax'))\n",
        "\n",
        "    model.compile(optimizer='adam',\n",
        "                  loss='sparse_categorical_crossentropy',\n",
        "                  metrics = ['accuracy'])\n",
        "    return model\n"
      ],
      "metadata": {
        "execution": {
          "iopub.status.busy": "2023-11-28T17:03:12.912552Z",
          "iopub.execute_input": "2023-11-28T17:03:12.912833Z",
          "iopub.status.idle": "2023-11-28T17:03:12.920321Z",
          "shell.execute_reply.started": "2023-11-28T17:03:12.9128Z",
          "shell.execute_reply": "2023-11-28T17:03:12.919429Z"
        },
        "trusted": true,
        "id": "5o0CFJcUokeR"
      },
      "execution_count": null,
      "outputs": []
    },
    {
      "cell_type": "code",
      "source": [
        "#and fit model\n",
        "model=fcc_nn_model()\n",
        "history_fcc_nn = model.fit(train_data,\n",
        "          epochs=50,\n",
        "          validation_data=test_data, batch_size=128)\n",
        "\n",
        "#оценка модели на тестовых данных\n",
        "test_loss, test_accuracy = model.evaluate(test_data)"
      ],
      "metadata": {
        "execution": {
          "iopub.status.busy": "2023-11-28T17:03:12.921373Z",
          "iopub.execute_input": "2023-11-28T17:03:12.921693Z",
          "iopub.status.idle": "2023-11-28T17:27:07.974577Z",
          "shell.execute_reply.started": "2023-11-28T17:03:12.92166Z",
          "shell.execute_reply": "2023-11-28T17:27:07.973807Z"
        },
        "trusted": true,
        "id": "q0Z0LjCdokeS"
      },
      "execution_count": null,
      "outputs": []
    },
    {
      "cell_type": "code",
      "source": [
        "#visualize fitting of model\n",
        "def check_metrics(history, figure_name):\n",
        "\n",
        "    train = history.history[f'{figure_name}']\n",
        "    val = history.history[f'val_{figure_name}']\n",
        "\n",
        "    # Построение графика лосса и валидационного лосса\n",
        "    epochs = range(1, len(train) + 1)\n",
        "    plt.plot(epochs, train, 'b', label=f'Training {figure_name}', color='orange')\n",
        "    plt.plot(epochs, val, 'b', label=f'Validation {figure_name}')\n",
        "    plt.title(f'Training and Validation {figure_name}')\n",
        "    plt.xlabel('Epochs')\n",
        "    plt.ylabel(f'{figure_name}')\n",
        "    plt.legend()\n",
        "    plt.show()"
      ],
      "metadata": {
        "execution": {
          "iopub.status.busy": "2023-11-28T17:27:07.975808Z",
          "iopub.execute_input": "2023-11-28T17:27:07.976101Z",
          "iopub.status.idle": "2023-11-28T17:27:07.982649Z",
          "shell.execute_reply.started": "2023-11-28T17:27:07.976075Z",
          "shell.execute_reply": "2023-11-28T17:27:07.981773Z"
        },
        "trusted": true,
        "id": "Noyh2wuGokeS"
      },
      "execution_count": null,
      "outputs": []
    },
    {
      "cell_type": "code",
      "source": [
        "check_metrics(history_fcc_nn, 'loss')\n",
        "check_metrics(history_fcc_nn, 'accuracy')"
      ],
      "metadata": {
        "execution": {
          "iopub.status.busy": "2023-11-28T17:27:07.987087Z",
          "iopub.execute_input": "2023-11-28T17:27:07.987438Z",
          "iopub.status.idle": "2023-11-28T17:27:08.469672Z",
          "shell.execute_reply.started": "2023-11-28T17:27:07.987413Z",
          "shell.execute_reply": "2023-11-28T17:27:08.468759Z"
        },
        "trusted": true,
        "id": "KfD2JFnvokeS"
      },
      "execution_count": null,
      "outputs": []
    },
    {
      "cell_type": "markdown",
      "source": [
        "*Model try to aproximize target, but do it not better, then simple dummy model*"
      ],
      "metadata": {
        "id": "yN-iRAzjokeS"
      }
    },
    {
      "cell_type": "code",
      "source": [
        "#try to add Normalizstion layers\n",
        "def fcc_nn_model_2():\n",
        "    model= Sequential()\n",
        "    model.add(Flatten (input_shape=[128,128,3]))\n",
        "    model.add(Dense(128, activation='relu'))\n",
        "    model.add(BatchNormalization())\n",
        "    model.add(Dense(64, activation='relu'))\n",
        "    model.add(BatchNormalization())\n",
        "    model.add(Dense(32, activation='relu'))\n",
        "    model.add(BatchNormalization())\n",
        "    model.add(Dense(2, activation='softmax'))\n",
        "    model.compile(optimizer='adam',\n",
        "                  loss='sparse_categorical_crossentropy',\n",
        "                  metrics = ['accuracy'])\n",
        "    return model"
      ],
      "metadata": {
        "execution": {
          "iopub.status.busy": "2023-11-28T17:27:08.470888Z",
          "iopub.execute_input": "2023-11-28T17:27:08.47117Z",
          "iopub.status.idle": "2023-11-28T17:27:08.477842Z",
          "shell.execute_reply.started": "2023-11-28T17:27:08.471144Z",
          "shell.execute_reply": "2023-11-28T17:27:08.476709Z"
        },
        "trusted": true,
        "id": "P88QNUeAokeS"
      },
      "execution_count": null,
      "outputs": []
    },
    {
      "cell_type": "code",
      "source": [
        "model_fcc_2=fcc_nn_model_2()\n",
        "history_fcc_nn_2 = model_fcc_2.fit(train_data,\n",
        "          epochs=30,\n",
        "          validation_data=test_data,\n",
        "          batch_size=128)\n",
        "\n",
        "#evaluate model on test data\n",
        "test_loss_fcc, test_accuracy_fcc = model_fcc_2.evaluate(test_data)"
      ],
      "metadata": {
        "execution": {
          "iopub.status.busy": "2023-11-28T17:27:08.479234Z",
          "iopub.execute_input": "2023-11-28T17:27:08.479589Z",
          "iopub.status.idle": "2023-11-28T17:41:49.987762Z",
          "shell.execute_reply.started": "2023-11-28T17:27:08.479557Z",
          "shell.execute_reply": "2023-11-28T17:41:49.986938Z"
        },
        "trusted": true,
        "id": "v8aNeTx2okeS"
      },
      "execution_count": null,
      "outputs": []
    },
    {
      "cell_type": "code",
      "source": [
        "check_metrics(history_fcc_nn_2, 'loss')\n",
        "check_metrics(history_fcc_nn_2, 'accuracy')"
      ],
      "metadata": {
        "execution": {
          "iopub.status.busy": "2023-11-28T17:41:49.989117Z",
          "iopub.execute_input": "2023-11-28T17:41:49.989445Z",
          "iopub.status.idle": "2023-11-28T17:41:50.563687Z",
          "shell.execute_reply.started": "2023-11-28T17:41:49.989417Z",
          "shell.execute_reply": "2023-11-28T17:41:50.562844Z"
        },
        "trusted": true,
        "id": "96ipsQfcokeT"
      },
      "execution_count": null,
      "outputs": []
    },
    {
      "cell_type": "code",
      "source": [
        "#add regularization to model\n",
        "def fcc_nn_model_3():\n",
        "    model= Sequential()\n",
        "    model.add(Flatten(input_shape=[128,128,3]))\n",
        "    model.add(Dense(128, activation='relu',\n",
        "                    kernel_regularizer=regularizers.l2(0.01)))\n",
        "    model.add(Dropout(0.1))\n",
        "    model.add(Dense(64, activation='relu',\n",
        "                    kernel_regularizer=regularizers.l2(0.01)))\n",
        "    model.add(Dropout(0.1))\n",
        "    model.add(Dense(32, activation='relu',\n",
        "                    kernel_regularizer=regularizers.l2(0.01)))\n",
        "    model.add(Dropout(0.1))\n",
        "    model.add(Dense(16, activation='relu',\n",
        "                    kernel_regularizer=regularizers.l2(0.01)))\n",
        "    model.add(Dropout(0.1))\n",
        "    model.add(Dense(2, activation='softmax'))\n",
        "    model.compile(optimizer='adam',\n",
        "                  loss='sparse_categorical_crossentropy',\n",
        "                  metrics=['accuracy'])\n",
        "    return model"
      ],
      "metadata": {
        "execution": {
          "iopub.status.busy": "2023-11-28T17:41:50.565033Z",
          "iopub.execute_input": "2023-11-28T17:41:50.565679Z",
          "iopub.status.idle": "2023-11-28T17:41:50.5741Z",
          "shell.execute_reply.started": "2023-11-28T17:41:50.56564Z",
          "shell.execute_reply": "2023-11-28T17:41:50.573308Z"
        },
        "trusted": true,
        "id": "jeVodT5pokeT"
      },
      "execution_count": null,
      "outputs": []
    },
    {
      "cell_type": "code",
      "source": [
        "model_fcc_3=fcc_nn_model_3()\n",
        "history_fcc_nn_3 = model_fcc_3.fit(train_data,\n",
        "          epochs=30,\n",
        "          validation_data=test_data)\n",
        "\n",
        "#оценка модели на тестовых данных\n",
        "test_loss_fcc_3, test_accuracy_fcc_3 = model_fcc_3.evaluate(test_data)\n",
        "print('Accuracy on test', test_accuracy_fcc_3)"
      ],
      "metadata": {
        "execution": {
          "iopub.status.busy": "2023-11-28T17:41:50.575964Z",
          "iopub.execute_input": "2023-11-28T17:41:50.576588Z",
          "iopub.status.idle": "2023-11-28T17:56:42.124936Z",
          "shell.execute_reply.started": "2023-11-28T17:41:50.576553Z",
          "shell.execute_reply": "2023-11-28T17:56:42.123843Z"
        },
        "trusted": true,
        "id": "_S4LOUl_okeT"
      },
      "execution_count": null,
      "outputs": []
    },
    {
      "cell_type": "markdown",
      "source": [
        "**OUTPUT simple FCC NC aren't able to explain target, ley use CNN NC**"
      ],
      "metadata": {
        "id": "snKD-gsxokeT"
      }
    },
    {
      "cell_type": "code",
      "source": [
        "#add Convolution layers, which are mo suitable for solving such tasks\n",
        "def conv_nn_model():\n",
        "    model= Sequential()\n",
        "    model.add(Conv2D(64, kernel_size=(2,2), activation='relu', input_shape=[128,128,3]))\n",
        "    model.add(MaxPooling2D(pool_size=(2,2)))\n",
        "    model.add(Flatten())\n",
        "    model.add(Dense(32, activation='relu'))\n",
        "    model.add(Dense(2, activation='softmax'))\n",
        "\n",
        "    model.compile(optimizer='adam',\n",
        "                  loss='sparse_categorical_crossentropy',\n",
        "                  metrics = ['accuracy'])\n",
        "    return model"
      ],
      "metadata": {
        "execution": {
          "iopub.status.busy": "2023-11-28T17:56:42.126386Z",
          "iopub.execute_input": "2023-11-28T17:56:42.126761Z",
          "iopub.status.idle": "2023-11-28T17:56:42.133895Z",
          "shell.execute_reply.started": "2023-11-28T17:56:42.126725Z",
          "shell.execute_reply": "2023-11-28T17:56:42.132913Z"
        },
        "trusted": true,
        "id": "Z5Q0l3jwokeT"
      },
      "execution_count": null,
      "outputs": []
    },
    {
      "cell_type": "code",
      "source": [
        "model_1=conv_nn_model()\n",
        "history_1 = model_1.fit(train_data,\n",
        "          epochs=50,\n",
        "          validation_data=test_data)\n",
        "\n",
        "#evaluate model\n",
        "test_loss_1, test_accuracy_1 = model_1.evaluate(test_data)"
      ],
      "metadata": {
        "execution": {
          "iopub.status.busy": "2023-11-28T17:56:42.13534Z",
          "iopub.execute_input": "2023-11-28T17:56:42.13571Z",
          "iopub.status.idle": "2023-11-28T18:20:04.812212Z",
          "shell.execute_reply.started": "2023-11-28T17:56:42.135667Z",
          "shell.execute_reply": "2023-11-28T18:20:04.811413Z"
        },
        "trusted": true,
        "id": "Qw4VpLaOokeT"
      },
      "execution_count": null,
      "outputs": []
    },
    {
      "cell_type": "code",
      "source": [
        "#посмотрим графики\n",
        "check_metrics(history_1, 'loss')\n",
        "check_metrics(history_1, 'accuracy')"
      ],
      "metadata": {
        "execution": {
          "iopub.status.busy": "2023-11-28T18:20:04.81354Z",
          "iopub.execute_input": "2023-11-28T18:20:04.81385Z",
          "iopub.status.idle": "2023-11-28T18:20:05.427388Z",
          "shell.execute_reply.started": "2023-11-28T18:20:04.813822Z",
          "shell.execute_reply": "2023-11-28T18:20:05.426498Z"
        },
        "trusted": true,
        "id": "T3sELPG1okeT"
      },
      "execution_count": null,
      "outputs": []
    },
    {
      "cell_type": "markdown",
      "source": [
        "*Very simple structure can't explain dependencies in our target*"
      ],
      "metadata": {
        "id": "CRv2ZKhNokeT"
      }
    },
    {
      "cell_type": "code",
      "source": [
        "#add regularization layers\n",
        "def conv_nn_model_2():\n",
        "    model= Sequential()\n",
        "    model.add(Conv2D(64, kernel_size=(3,3), activation='relu', input_shape=[128,128,3], padding='same'))\n",
        "    model.add(MaxPooling2D(pool_size=(3,3)))\n",
        "    model.add(BatchNormalization())\n",
        "    model.add(Conv2D(64, kernel_size=(3,3), activation='relu', padding='same'))\n",
        "    model.add(MaxPooling2D(pool_size=(3,3)))\n",
        "    model.add(BatchNormalization())\n",
        "    model.add(Conv2D(32, kernel_size=(3,3), activation='relu', padding='same'))\n",
        "    model.add(MaxPooling2D(pool_size=(3,3)))\n",
        "    model.add(BatchNormalization())\n",
        "    model.add(Flatten())\n",
        "    model.add(Dense (32, activation='relu'))\n",
        "    model.add(Dropout(0.1))\n",
        "    model.add(Dense(16, activation='relu'))\n",
        "    model.add(BatchNormalization())\n",
        "    model.add(Dense(2, activation='softmax'))\n",
        "\n",
        "    model.compile(optimizer='adam',\n",
        "                  loss='sparse_categorical_crossentropy',\n",
        "                  metrics = ['accuracy'])\n",
        "    return model"
      ],
      "metadata": {
        "execution": {
          "iopub.status.busy": "2023-11-28T18:20:05.428778Z",
          "iopub.execute_input": "2023-11-28T18:20:05.42917Z",
          "iopub.status.idle": "2023-11-28T18:20:05.43949Z",
          "shell.execute_reply.started": "2023-11-28T18:20:05.429132Z",
          "shell.execute_reply": "2023-11-28T18:20:05.438505Z"
        },
        "trusted": true,
        "id": "UiZqDP8KokeU"
      },
      "execution_count": null,
      "outputs": []
    },
    {
      "cell_type": "code",
      "source": [
        "model_2=conv_nn_model_2()\n",
        "\n",
        "history_2 = model_2.fit(train_data,\n",
        "          epochs=50,\n",
        "          validation_data=test_data)\n",
        "\n",
        "#оценка модели на тестовых данных\n",
        "test_loss_2, test_accuracy_2 = model_2.evaluate(test_data)\n",
        "print('Accuracy on test', test_accuracy_2)"
      ],
      "metadata": {
        "execution": {
          "iopub.status.busy": "2023-11-28T18:20:05.440675Z",
          "iopub.execute_input": "2023-11-28T18:20:05.440986Z",
          "iopub.status.idle": "2023-11-28T18:43:14.443693Z",
          "shell.execute_reply.started": "2023-11-28T18:20:05.440961Z",
          "shell.execute_reply": "2023-11-28T18:43:14.442772Z"
        },
        "trusted": true,
        "id": "3vN68z5wokeU"
      },
      "execution_count": null,
      "outputs": []
    },
    {
      "cell_type": "code",
      "source": [
        "check_metrics(history_2, 'loss')\n",
        "check_metrics(history_2, 'accuracy')"
      ],
      "metadata": {
        "execution": {
          "iopub.status.busy": "2023-11-28T18:43:14.445055Z",
          "iopub.execute_input": "2023-11-28T18:43:14.445746Z",
          "iopub.status.idle": "2023-11-28T18:43:15.01713Z",
          "shell.execute_reply.started": "2023-11-28T18:43:14.445709Z",
          "shell.execute_reply": "2023-11-28T18:43:15.016037Z"
        },
        "trusted": true,
        "id": "pupEd9cTokeU"
      },
      "execution_count": null,
      "outputs": []
    },
    {
      "cell_type": "code",
      "source": [
        "#take out regularization on Connolutional layers, as it  had bad impact on results of prevouis model\n",
        "def conv_nn_model_3():\n",
        "    model= Sequential()\n",
        "    model.add(Conv2D(64, kernel_size=(3,3), activation='relu', input_shape=[128,128,3]))\n",
        "    model.add(MaxPooling2D(pool_size=(3,3)))\n",
        "    model.add(Conv2D(64, kernel_size=(2,2), activation='relu'))\n",
        "    model.add(MaxPooling2D(pool_size=(2,2)))\n",
        "    model.add(Conv2D(32, kernel_size=(3,3), activation='relu'))\n",
        "    model.add(MaxPooling2D(pool_size=(3,3)))\n",
        "    model.add(Flatten())\n",
        "    model.add(Dense (32, activation='relu'))\n",
        "    model.add(Dropout(0.01))\n",
        "    model.add(Dense(16, activation='relu'))\n",
        "    model.add(Dropout(0.01))\n",
        "    model.add(Dense(2, activation='softmax'))\n",
        "\n",
        "    model.compile(optimizer='adam',\n",
        "                  loss='sparse_categorical_crossentropy',\n",
        "                  metrics = ['accuracy'])\n",
        "    return model"
      ],
      "metadata": {
        "execution": {
          "iopub.status.busy": "2023-11-28T18:43:15.01861Z",
          "iopub.execute_input": "2023-11-28T18:43:15.018953Z",
          "iopub.status.idle": "2023-11-28T18:43:15.028373Z",
          "shell.execute_reply.started": "2023-11-28T18:43:15.018922Z",
          "shell.execute_reply": "2023-11-28T18:43:15.027377Z"
        },
        "trusted": true,
        "id": "Kslvc1LgokeU"
      },
      "execution_count": null,
      "outputs": []
    },
    {
      "cell_type": "code",
      "source": [
        "model_2_2=conv_nn_model_3()\n",
        "\n",
        "history_2_2 = model_2_2.fit(train_data,\n",
        "          epochs=60,\n",
        "          validation_data=test_data)\n",
        "\n",
        "#оценка модели на тестовых данных\n",
        "test_loss_2_2, test_accuracy_2_2 = model_2_2.evaluate(test_data)\n",
        "print('Accuracy on test', test_accuracy_2_2)"
      ],
      "metadata": {
        "execution": {
          "iopub.status.busy": "2023-11-28T18:43:15.029831Z",
          "iopub.execute_input": "2023-11-28T18:43:15.030147Z",
          "iopub.status.idle": "2023-11-28T19:10:42.634855Z",
          "shell.execute_reply.started": "2023-11-28T18:43:15.030119Z",
          "shell.execute_reply": "2023-11-28T19:10:42.6339Z"
        },
        "trusted": true,
        "id": "NT5L0iUZokeU"
      },
      "execution_count": null,
      "outputs": []
    },
    {
      "cell_type": "code",
      "source": [
        "check_metrics(history_2_2, 'loss')\n",
        "check_metrics(history_2_2, 'accuracy')"
      ],
      "metadata": {
        "execution": {
          "iopub.status.busy": "2023-11-28T19:10:42.63608Z",
          "iopub.execute_input": "2023-11-28T19:10:42.636848Z",
          "iopub.status.idle": "2023-11-28T19:10:43.437027Z",
          "shell.execute_reply.started": "2023-11-28T19:10:42.636817Z",
          "shell.execute_reply": "2023-11-28T19:10:43.436119Z"
        },
        "trusted": true,
        "id": "NtWdcyuNokeU"
      },
      "execution_count": null,
      "outputs": []
    },
    {
      "cell_type": "code",
      "source": [
        "#model already try to catch taget, improve it\n",
        "def model_cnn():\n",
        "    model= Sequential()\n",
        "    model.add(Conv2D(64, kernel_size=(3,3), activation='relu', input_shape=[128,128,3]))\n",
        "    model.add(MaxPooling2D(pool_size=(3,3)))\n",
        "    model.add(Dropout(0.01))\n",
        "    model.add(Conv2D(64, kernel_size=(2,2), activation='relu'))\n",
        "    model.add(MaxPooling2D(pool_size=(2,2)))\n",
        "    model.add(Dropout(0.01))\n",
        "    model.add(Conv2D(32, kernel_size=(3,3), activation='relu'))\n",
        "    model.add(MaxPooling2D(pool_size=(3,3)))\n",
        "    model.add(Dropout(0.01))\n",
        "    model.add(Flatten())\n",
        "    model.add(Dense (32, activation='relu'))\n",
        "    model.add(Dropout(0.01))\n",
        "    model.add(Dense(16, activation='relu'))\n",
        "    model.add(Dropout(0.01))\n",
        "    model.add(Dense(2, activation='softmax'))\n",
        "\n",
        "    model.compile(optimizer='adam',\n",
        "                  loss='sparse_categorical_crossentropy',\n",
        "                  metrics = ['accuracy'])\n",
        "    return model"
      ],
      "metadata": {
        "execution": {
          "iopub.status.busy": "2023-11-28T19:10:43.438315Z",
          "iopub.execute_input": "2023-11-28T19:10:43.438621Z",
          "iopub.status.idle": "2023-11-28T19:10:43.447565Z",
          "shell.execute_reply.started": "2023-11-28T19:10:43.438595Z",
          "shell.execute_reply": "2023-11-28T19:10:43.446634Z"
        },
        "trusted": true,
        "id": "adMx6ZYDokeU"
      },
      "execution_count": null,
      "outputs": []
    },
    {
      "cell_type": "code",
      "source": [
        "model_3= model_cnn()\n",
        "\n",
        "history_3=model_3.fit(x=train_data, validation_data=test_data, epochs=60)\n",
        "\n",
        "test_loss_3, test_accuracy_3 = model_3.evaluate(test_data)\n",
        "print('Accuracy on test', test_accuracy_3)"
      ],
      "metadata": {
        "execution": {
          "iopub.status.busy": "2023-11-28T19:10:43.448734Z",
          "iopub.execute_input": "2023-11-28T19:10:43.449037Z",
          "iopub.status.idle": "2023-11-28T19:38:22.830808Z",
          "shell.execute_reply.started": "2023-11-28T19:10:43.449012Z",
          "shell.execute_reply": "2023-11-28T19:38:22.82996Z"
        },
        "trusted": true,
        "id": "jHBpAK4cokeU"
      },
      "execution_count": null,
      "outputs": []
    },
    {
      "cell_type": "code",
      "source": [
        "highest_accuracy_3 = max(history_3.history['accuracy'])\n",
        "print('Highest train accuracy:', highest_accuracy_3)\n",
        "\n",
        "test_loss_3, test_accuracy_3 = model_3.evaluate(test_data)\n",
        "print('Highest test accuracy:', test_accuracy_3)"
      ],
      "metadata": {
        "execution": {
          "iopub.status.busy": "2023-11-28T19:38:22.832105Z",
          "iopub.execute_input": "2023-11-28T19:38:22.832429Z",
          "iopub.status.idle": "2023-11-28T19:38:44.918294Z",
          "shell.execute_reply.started": "2023-11-28T19:38:22.832402Z",
          "shell.execute_reply": "2023-11-28T19:38:44.917407Z"
        },
        "trusted": true,
        "id": "cWcUNWHGokeV"
      },
      "execution_count": null,
      "outputs": []
    },
    {
      "cell_type": "code",
      "source": [
        "check_metrics(history_3, 'loss')\n",
        "check_metrics(history_3, 'accuracy')"
      ],
      "metadata": {
        "execution": {
          "iopub.status.busy": "2023-11-28T19:38:44.923506Z",
          "iopub.execute_input": "2023-11-28T19:38:44.923842Z",
          "iopub.status.idle": "2023-11-28T19:38:45.390595Z",
          "shell.execute_reply.started": "2023-11-28T19:38:44.923813Z",
          "shell.execute_reply": "2023-11-28T19:38:45.389631Z"
        },
        "trusted": true,
        "id": "s48h-Iw1okeV"
      },
      "execution_count": null,
      "outputs": []
    },
    {
      "cell_type": "markdown",
      "source": [
        "**the best model has following structure**\n",
        "-  model= Sequential()\n",
        "- model.add(Conv2D(64, kernel_size=(3,3), activation='relu', input_shape=[128,128,3]))\n",
        "- model.add(MaxPooling2D(pool_size=(3,3)))\n",
        "- model.add(Dropout(0.01))\n",
        "- model.add(Conv2D(64, kernel_size=(2,2), activation='relu'))\n",
        "- model.add(MaxPooling2D(pool_size=(2,2)))\n",
        "- model.add(Dropout(0.01))\n",
        "- model.add(Conv2D(32, kernel_size=(3,3), activation='relu'))\n",
        "- model.add(MaxPooling2D(pool_size=(3,3)))\n",
        "- model.add(Dropout(0.01))\n",
        "- model.add(Flatten())\n",
        "- model.add(Dense (32, activation='relu'))\n",
        "- model.add(Dropout(0.01))\n",
        "- model.add(Dense(16, activation='relu'))\n",
        "- model.add(Dropout(0.01))\n",
        "- model.add(Dense(2, activation='softmax'))\n",
        "\n",
        "- model.compile(optimizer='adam',loss='sparse_categorical_crossentropy',metrics = ['accuracy'])\n"
      ],
      "metadata": {
        "id": "i5Tn0FgRokeV"
      }
    },
    {
      "cell_type": "markdown",
      "source": [
        "**Best accuaracy received at 60 epochs = 0.83 without usage of any pretaught models**\n",
        "\n",
        "*This task need to use convolutional layes to solve it*"
      ],
      "metadata": {
        "id": "jAhB4j3vokeV"
      }
    }
  ]
}